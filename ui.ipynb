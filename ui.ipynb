{
 "cells": [
  {
   "cell_type": "code",
   "execution_count": 1,
   "metadata": {},
   "outputs": [
    {
     "ename": "ModuleNotFoundError",
     "evalue": "No module named 'requests'",
     "output_type": "error",
     "traceback": [
      "\u001b[1;31m---------------------------------------------------------------------------\u001b[0m",
      "\u001b[1;31mModuleNotFoundError\u001b[0m                       Traceback (most recent call last)",
      "\u001b[1;32m<ipython-input-1-29ff2fcc5671>\u001b[0m in \u001b[0;36m<module>\u001b[1;34m\u001b[0m\n\u001b[1;32m----> 1\u001b[1;33m \u001b[1;32mimport\u001b[0m \u001b[0mrequests\u001b[0m\u001b[1;33m\u001b[0m\u001b[1;33m\u001b[0m\u001b[0m\n\u001b[0m\u001b[0;32m      2\u001b[0m \u001b[1;32mimport\u001b[0m \u001b[0mjson\u001b[0m\u001b[1;33m\u001b[0m\u001b[1;33m\u001b[0m\u001b[0m\n\u001b[0;32m      3\u001b[0m \u001b[1;32mimport\u001b[0m \u001b[0mipywidgets\u001b[0m \u001b[1;32mas\u001b[0m \u001b[0mwidgets\u001b[0m\u001b[1;33m\u001b[0m\u001b[1;33m\u001b[0m\u001b[0m\n\u001b[0;32m      4\u001b[0m \u001b[1;32mimport\u001b[0m \u001b[0mpandas\u001b[0m \u001b[1;32mas\u001b[0m \u001b[0mpd\u001b[0m\u001b[1;33m\u001b[0m\u001b[1;33m\u001b[0m\u001b[0m\n\u001b[0;32m      5\u001b[0m \u001b[1;32mimport\u001b[0m \u001b[0mnumpy\u001b[0m \u001b[1;32mas\u001b[0m \u001b[0mnp\u001b[0m\u001b[1;33m\u001b[0m\u001b[1;33m\u001b[0m\u001b[0m\n",
      "\u001b[1;31mModuleNotFoundError\u001b[0m: No module named 'requests'"
     ]
    }
   ],
   "source": [
    "import requests\n",
    "import json\n",
    "import ipywidgets as widgets\n",
    "import pandas as pd\n",
    "import numpy as np\n",
    "import matplotlib.pyplot as plt\n",
    "import ipywidgets as widgets\n",
    "\n",
    "from IPython.display import clear_output\n",
    "\n",
    "%matplotlib inline\n",
    "\n",
    "button = widgets.Button(description=\"Draw graph\")\n",
    "display(button)\n",
    "out = widgets.Output()\n",
    "city = widgets.Dropdown(\n",
    "    options=['Kyiv', 'Lviv', 'Odessa'],\n",
    "    value='Odessa',\n",
    "    description='Cities:',\n",
    "    disabled=False,\n",
    ")\n",
    "\n",
    "type_data = widgets.Dropdown(\n",
    "    options=['temp', 'hum', 'v_wind', 'mag', 'depth'],\n",
    "    value='temp',\n",
    "    description='Available data:',\n",
    "    disabled=False,\n",
    ")\n",
    "\n",
    "min_max_value = widgets.FloatRangeSlider(\n",
    "    value=[0, 15],\n",
    "    min=-100.0,\n",
    "    max=100.0,\n",
    "    step=0.1,\n",
    "    description='Value:',\n",
    "    disabled=False,\n",
    "    continuous_update=False,\n",
    "    orientation='horizontal',\n",
    "    readout=True,\n",
    "    readout_format='.1f',\n",
    ")\n",
    "\n",
    "date_from = widgets.Text(\n",
    "    value='2019-03-10 22:58:54',\n",
    "    placeholder='Type something',\n",
    "    description='Date from:',\n",
    "    disabled=False\n",
    ")\n",
    "\n",
    "date_to = widgets.Text(\n",
    "    value='2019-03-15 22:58:54',\n",
    "    placeholder='Type something',\n",
    "    description='Date to:',\n",
    "    disabled=False\n",
    ")\n",
    "\n",
    "\n",
    "display(city, type_data, min_max_value, date_from, date_to)\n",
    "\n",
    "def click_button(b):\n",
    "    arg = {\"city\": city.value, \"data\": type_data.value,\n",
    "           \"val_min\": min_max_value.value[0],\n",
    "           \"val_max\": min_max_value.value[1],\n",
    "           \"time_min\": date_from.value,\n",
    "           \"time_max\": date_to.value}\n",
    "    r = requests.post('http://gateway.openfaas.svc:8080/function/get-from-db', json.dumps(arg))\n",
    "    my_plot = r.content.plot(kind='bar')\n",
    "    with out:\n",
    "        clear_output()\n",
    "        \n",
    "button.on_click(click_button)"
   ]
  },
  {
   "cell_type": "code",
   "execution_count": null,
   "metadata": {},
   "outputs": [],
   "source": []
  }
 ],
 "metadata": {
  "kernelspec": {
   "display_name": "Python 3",
   "language": "python",
   "name": "python3"
  },
  "language_info": {
   "codemirror_mode": {
    "name": "ipython",
    "version": 3
   },
   "file_extension": ".py",
   "mimetype": "text/x-python",
   "name": "python",
   "nbconvert_exporter": "python",
   "pygments_lexer": "ipython3",
   "version": "3.6.7"
  }
 },
 "nbformat": 4,
 "nbformat_minor": 2
}
